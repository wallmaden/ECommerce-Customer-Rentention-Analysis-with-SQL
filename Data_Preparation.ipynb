{
 "cells": [
  {
   "cell_type": "code",
   "execution_count": null,
   "id": "7e683d20-4448-4fed-aa98-f5ddaeb09ab1",
   "metadata": {},
   "outputs": [],
   "source": [
    "# Preparing csv data in readiness for usage in SQL\n",
    "\n",
    "import pandas as pd\n",
    "import os\n",
    "\n",
    "# Define input and output paths\n",
    "input_path = r\"C:\\Users\\wallm\\ecommerce_data\\olist_products_dataset.csv\"\n",
    "output_path = r\"C:\\Users\\wallm\\ecommerce_data\\olist_products_dataset_cleaned.csv\"\n",
    "\n",
    "# Load CSV with all values as strings to prevent unwanted conversion\n",
    "df = pd.read_csv(input_path, dtype=str)\n",
    "\n",
    "# Clean the data\n",
    "df = df.applymap(lambda x: x.strip() if isinstance(x, str) else x)  # Trim whitespace\n",
    "df = df.drop_duplicates()  # Remove any duplicate entries\n",
    "\n",
    "# Optional: Standardize product category name\n",
    "df['product_category_name'] = df['product_category_name'].str.lower()\n",
    "\n",
    "# Save the cleaned file\n",
    "df.to_csv(output_path, index=False)\n",
    "\n",
    "print(f\"✅ Cleaned products dataset saved to: {output_path}\")\n"
   ]
  }
 ],
 "metadata": {
  "kernelspec": {
   "display_name": "Python 3 (ipykernel)",
   "language": "python",
   "name": "python3"
  },
  "language_info": {
   "codemirror_mode": {
    "name": "ipython",
    "version": 3
   },
   "file_extension": ".py",
   "mimetype": "text/x-python",
   "name": "python",
   "nbconvert_exporter": "python",
   "pygments_lexer": "ipython3",
   "version": "3.12.3"
  }
 },
 "nbformat": 4,
 "nbformat_minor": 5
}
